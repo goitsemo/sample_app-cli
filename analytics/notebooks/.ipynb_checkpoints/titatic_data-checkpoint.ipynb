{
 "cells": [
  {
   "cell_type": "code",
   "execution_count": 223,
   "metadata": {},
   "outputs": [],
   "source": [
    "# import datasets packages\n",
    "import matplotlib.pyplot as plt\n",
    "from sklearn.linear_model import LogisticRegression\n",
    "import pandas as pd"
   ]
  },
  {
   "cell_type": "code",
   "execution_count": 224,
   "metadata": {},
   "outputs": [
    {
     "name": "stdout",
     "output_type": "stream",
     "text": [
      "   Survived  Pclass     Sex   Age  Siblings/Spouses  Parents/Children     Fare\n",
      "0         0       3    male  22.0                 1                 0   7.2500\n",
      "1         1       1  female  38.0                 1                 0  71.2833\n",
      "2         1       3  female  26.0                 0                 0   7.9250\n",
      "3         1       1  female  35.0                 1                 0  53.1000\n",
      "4         0       3    male  35.0                 0                 0   8.0500\n"
     ]
    }
   ],
   "source": [
    "# create df object: convert csv file to pandas dataframe, print 1st 5 rows\n",
    "df = pd.read_csv('./data/titanic.csv')\n",
    "print(df.head())"
   ]
  },
  {
   "cell_type": "code",
   "execution_count": 225,
   "metadata": {},
   "outputs": [
    {
     "name": "stdout",
     "output_type": "stream",
     "text": [
      "     Survived  Pclass     Sex   Age  Siblings/Spouses  Parents/Children   Fare\n",
      "882         0       2    male  27.0                 0                 0  13.00\n",
      "883         1       1  female  19.0                 0                 0  30.00\n",
      "884         0       3  female   7.0                 1                 2  23.45\n",
      "885         1       1    male  26.0                 0                 0  30.00\n",
      "886         0       3    male  32.0                 0                 0   7.75\n"
     ]
    }
   ],
   "source": [
    "# print the last 5 rows\n",
    "print(df.tail())"
   ]
  },
  {
   "cell_type": "code",
   "execution_count": 226,
   "metadata": {},
   "outputs": [
    {
     "name": "stdout",
     "output_type": "stream",
     "text": [
      "         Survived      Pclass         Age  Siblings/Spouses  Parents/Children  \\\n",
      "count  887.000000  887.000000  887.000000        887.000000        887.000000   \n",
      "mean     0.385569    2.305524   29.471443          0.525366          0.383315   \n",
      "std      0.487004    0.836662   14.121908          1.104669          0.807466   \n",
      "min      0.000000    1.000000    0.420000          0.000000          0.000000   \n",
      "25%      0.000000    2.000000   20.250000          0.000000          0.000000   \n",
      "50%      0.000000    3.000000   28.000000          0.000000          0.000000   \n",
      "75%      1.000000    3.000000   38.000000          1.000000          0.000000   \n",
      "max      1.000000    3.000000   80.000000          8.000000          6.000000   \n",
      "\n",
      "            Fare  \n",
      "count  887.00000  \n",
      "mean    32.30542  \n",
      "std     49.78204  \n",
      "min      0.00000  \n",
      "25%      7.92500  \n",
      "50%     14.45420  \n",
      "75%     31.13750  \n",
      "max    512.32920  \n"
     ]
    }
   ],
   "source": [
    "# pandas summary stats: basic statistics about columns\n",
    "print(df.describe())"
   ]
  },
  {
   "cell_type": "code",
   "execution_count": 227,
   "metadata": {},
   "outputs": [
    {
     "name": "stdout",
     "output_type": "stream",
     "text": [
      "0       7.2500\n",
      "1      71.2833\n",
      "2       7.9250\n",
      "3      53.1000\n",
      "4       8.0500\n",
      "        ...   \n",
      "882    13.0000\n",
      "883    30.0000\n",
      "884    23.4500\n",
      "885    30.0000\n",
      "886     7.7500\n",
      "Name: Fare, Length: 887, dtype: float64\n"
     ]
    }
   ],
   "source": [
    "# pandas series: selecting a single column \n",
    "col = df['Fare']\n",
    "print(col)"
   ]
  },
  {
   "cell_type": "code",
   "execution_count": 228,
   "metadata": {},
   "outputs": [
    {
     "name": "stdout",
     "output_type": "stream",
     "text": [
      "[3 1 3 1 3 3 1 3 3 2 3 1 3 3 3 2 3 2 3 3 2 2 3 1 3 3 3 1 3 3 1 1 3 2 1 1 3\n",
      " 3 3 3 3 2 2 3 3 3 3 3 3 3 3 1 2 1 1 2 3 2 3 3 1 1 3 1 3 2 3 3 3 2 3 2 3 3\n",
      " 3 3 3 2 3 3 3 3 1 2 3 3 3 1 3 3 3 1 3 3 3 1 1 2 2 3 3 1 3 3 3 3 3 3 3 1 3\n",
      " 3 3 3 3 3 2 1 3 2 3 2 2 1 3 3 3 3 3 3 3 3 2 2 2 1 1 3 1 3 3 3 3 2 2 3 3 2\n",
      " 2 2 1 3 3 3 1 3 3 3 3 3 2 3 3 3 3 1 3 1 3 1 3 3 3 1 3 3 1 2 3 3 2 3 2 3 1\n",
      " 3 1 3 3 2 2 3 2 1 1 3 3 3 2 3 3 3 3 3 3 3 3 3 1 3 2 3 2 3 1 3 2 1 2 3 2 3\n",
      " 3 1 3 2 3 2 3 1 3 2 3 2 3 2 2 2 2 3 3 2 3 3 1 3 2 1 2 3 3 1 3 3 3 1 1 1 2\n",
      " 3 1 1 3 2 3 3 1 1 1 3 2 1 3 1 3 2 3 3 3 3 3 3 1 3 3 3 2 3 1 1 2 3 3 1 3 1\n",
      " 1 1 3 3 3 2 3 1 1 1 2 1 1 1 2 3 2 3 2 2 1 1 3 3 2 2 3 1 3 2 3 1 3 1 1 3 1\n",
      " 3 1 1 3 1 2 1 2 2 2 2 2 3 3 3 3 1 3 3 3 3 1 2 3 3 3 2 3 3 3 3 1 3 3 1 1 3\n",
      " 3 1 3 1 3 1 3 3 1 3 3 1 3 2 3 2 3 2 1 3 3 1 3 3 3 2 2 2 3 3 3 3 3 2 3 2 3\n",
      " 3 3 3 1 2 3 3 2 2 2 3 3 3 3 3 3 2 2 3 3 1 3 2 3 1 1 3 2 1 2 2 3 3 2 3 1 2\n",
      " 1 3 1 2 3 1 1 3 3 1 1 2 3 1 3 1 2 3 3 2 1 3 3 3 3 2 2 3 1 2 3 3 3 3 2 3 3\n",
      " 1 3 1 1 3 3 3 3 1 1 3 3 1 3 1 3 3 3 3 3 1 1 2 1 3 3 3 3 1 1 3 1 2 3 2 3 1\n",
      " 3 3 1 3 3 2 1 3 2 2 3 3 3 3 2 1 1 3 1 1 3 3 2 1 1 2 2 3 2 1 2 3 3 3 1 1 1\n",
      " 1 3 3 3 2 3 3 3 3 3 3 3 2 1 1 3 3 3 2 1 3 3 2 1 2 1 3 1 2 1 3 3 3 1 3 3 2\n",
      " 3 2 3 3 1 2 3 1 3 1 3 3 1 2 1 3 3 3 3 3 2 3 3 2 2 3 1 3 3 3 1 2 1 3 3 1 3\n",
      " 1 1 3 2 3 2 3 3 3 1 3 3 3 1 3 1 3 3 3 2 3 3 3 2 3 3 2 1 1 3 1 3 3 2 2 3 3\n",
      " 1 2 1 2 2 2 3 3 3 3 1 3 1 3 3 2 2 3 3 3 1 1 3 3 3 1 2 3 3 1 3 1 1 3 3 3 2\n",
      " 2 1 1 3 1 1 1 3 2 3 1 2 3 2 3 2 2 1 3 2 3 2 3 1 3 2 2 2 3 3 1 3 3 1 1 1 3\n",
      " 3 1 3 2 1 3 2 3 3 3 2 2 3 2 3 1 3 3 3 1 3 1 1 3 3 3 3 3 2 3 2 3 3 3 3 1 3\n",
      " 1 1 3 3 3 3 3 3 1 3 2 3 1 3 2 1 3 3 3 2 2 1 3 3 3 1 3 2 1 3 3 2 3 3 1 3 2\n",
      " 3 3 1 3 1 3 3 3 3 2 3 1 3 2 3 3 3 1 3 3 3 1 3 2 1 3 3 3 3 3 2 1 3 3 3 1 2\n",
      " 3 1 1 3 3 3 2 1 3 2 2 2 1 3 3 3 1 1 3 2 3 3 3 3 1 2 3 3 2 3 3 2 1 3 1 3]\n"
     ]
    }
   ],
   "source": [
    "# obtaining values as a numpy array\n",
    "print(df['Pclass'].values)"
   ]
  },
  {
   "cell_type": "code",
   "execution_count": 229,
   "metadata": {},
   "outputs": [
    {
     "name": "stdout",
     "output_type": "stream",
     "text": [
      "    Age     Sex  Survived\n",
      "0  22.0    male         0\n",
      "1  38.0  female         1\n",
      "2  26.0  female         1\n",
      "3  35.0  female         1\n",
      "4  35.0    male         0\n"
     ]
    }
   ],
   "source": [
    "# printing 1st 5 rows as numpy array from a large dataframe\n",
    "small_df = df[['Age', 'Sex', 'Survived']]\n",
    "print(small_df.head())"
   ]
  },
  {
   "cell_type": "code",
   "execution_count": 230,
   "metadata": {},
   "outputs": [
    {
     "name": "stdout",
     "output_type": "stream",
     "text": [
      "[[22.0 'male' 0]\n",
      " [38.0 'female' 1]\n",
      " [26.0 'female' 1]\n",
      " ...\n",
      " [7.0 'female' 0]\n",
      " [26.0 'male' 1]\n",
      " [32.0 'male' 0]]\n",
      "male\n",
      "(887, 3)\n"
     ]
    }
   ],
   "source": [
    "# shape to determine the size of numpy array: rows & column size\n",
    "arr = df[['Age', 'Sex', 'Survived']].values\n",
    "print(arr)  \n",
    "print(arr[0, 1])   # selects a single element from the numpy array\n",
    "print(arr.shape)"
   ]
  },
  {
   "cell_type": "code",
   "execution_count": 231,
   "metadata": {},
   "outputs": [
    {
     "name": "stdout",
     "output_type": "stream",
     "text": [
      "[False False False False False False False  True False  True  True False\n",
      " False False  True False  True False False False False False  True False\n",
      "  True False False False False False False False False False False False\n",
      " False False False  True False False  True False False False False  True\n",
      " False  True False False False False False False False  True  True False\n",
      " False False  True False  True False False  True False False  True False\n",
      " False False False False False  True False False False False False  True\n",
      " False  True False False False False False False False False False False\n",
      " False False False False False False False False False False False False\n",
      " False False  True False False  True False False False False  True False\n",
      " False False False False  True False False  True False False False False\n",
      " False False False False False  True False False False False False False\n",
      " False False  True False False False False False False False False  True\n",
      " False False  True False False False  True  True  True False False False\n",
      " False False  True  True False False False  True False False False  True\n",
      " False  True  True  True False False False False False False False False\n",
      "  True False False False False False False False  True False False False\n",
      "  True False False  True False False False False False False False False\n",
      " False False False  True False False False False False False False False\n",
      "  True False False False  True False False False  True False False False\n",
      " False False False False False False False False False False False False\n",
      " False False False False False False False  True False False False False\n",
      "  True False False False False False False False False False False False\n",
      "  True False False False  True False False False False False False False\n",
      " False False False False False False False  True False False False False\n",
      " False False False  True False  True False False False False False False\n",
      " False False False False False False False False False False False False\n",
      " False False False  True False False False  True False False False False\n",
      " False False  True False False False False False False False  True False\n",
      " False False  True False False False False False False False False False\n",
      " False False False False False False False False False False False False\n",
      "  True False False False False False False  True False False False False\n",
      "  True False False  True False False False False False False False False\n",
      " False False False False False False False False False  True False  True\n",
      " False False False False False False False False False  True False False\n",
      " False False False False False False False False False False  True False\n",
      "  True False False False False False False False False False  True  True\n",
      " False  True False False False False False False False False False False\n",
      "  True False False False False False False False False False  True False\n",
      " False False False False False False False False  True  True False False\n",
      " False False  True False False False  True False False False False False\n",
      " False False False False False  True False False False  True False False\n",
      " False False False False False False False False False False False False\n",
      " False False False False False False False False False False False  True\n",
      "  True  True False False  True False False False False False  True  True\n",
      " False False False False False False  True  True False False False False\n",
      " False False False False False False False False False False False False\n",
      " False False False False False False False  True False False False False\n",
      " False False False False False  True False False False False False False\n",
      " False False False False False False False False False False False False\n",
      " False False False False False False False False False False False False\n",
      " False False False  True False False False False False False False False\n",
      " False False False False False False False  True False False False False\n",
      " False False False  True False  True False False False False False False\n",
      " False False  True False False False False False False False False False\n",
      " False False False False False False False False False False False False\n",
      " False False False False False False False False  True False False  True\n",
      " False False  True False  True False False False False False False False\n",
      " False False False False False False False False False False  True False\n",
      " False False False False False False False False  True  True False False\n",
      " False False False False False False False  True False False False False\n",
      " False False False False False False False False False False  True False\n",
      " False False  True  True False False False  True False False False False\n",
      " False False False False  True False False False False False False False\n",
      " False False False False False  True False False  True  True False False\n",
      " False False False  True  True False False  True False False False False\n",
      " False False False False False False  True  True False False False False\n",
      " False False False False False  True False False False False False  True\n",
      " False False False False  True False False  True False False  True  True\n",
      " False False False False False False False False False  True False False\n",
      "  True False False False False False  True False  True  True False False\n",
      " False False False False False False False  True False False False False\n",
      " False  True False False False False False  True False False False False\n",
      " False False False False False False False False  True False False]\n"
     ]
    }
   ],
   "source": [
    "# finding passengers below 18 yrs: children\n",
    "mask = arr[:, 0] < 18\n",
    "print(mask)"
   ]
  },
  {
   "cell_type": "code",
   "execution_count": 232,
   "metadata": {},
   "outputs": [
    {
     "name": "stdout",
     "output_type": "stream",
     "text": [
      "[[2.0 'male' 0]\n",
      " [14.0 'female' 1]\n",
      " [4.0 'female' 1]\n",
      " [14.0 'female' 0]\n",
      " [2.0 'male' 0]\n",
      " [15.0 'female' 1]\n",
      " [8.0 'female' 0]\n",
      " [14.0 'female' 1]\n",
      " [3.0 'female' 1]\n",
      " [16.0 'male' 0]\n",
      " [7.0 'male' 0]\n",
      " [5.0 'female' 1]\n",
      " [11.0 'male' 0]\n",
      " [4.0 'male' 0]\n",
      " [7.0 'male' 1]\n",
      " [17.0 'female' 1]\n",
      " [16.0 'female' 0]\n",
      " [0.83 'male' 1]\n",
      " [17.0 'female' 1]\n",
      " [16.0 'male' 0]\n",
      " [14.5 'female' 0]\n",
      " [17.0 'female' 0]\n",
      " [2.0 'female' 0]\n",
      " [12.0 'male' 1]\n",
      " [2.0 'female' 1]\n",
      " [16.0 'male' 0]\n",
      " [9.0 'female' 0]\n",
      " [16.0 'female' 1]\n",
      " [5.0 'male' 0]\n",
      " [17.0 'male' 0]\n",
      " [1.0 'male' 0]\n",
      " [9.0 'male' 1]\n",
      " [4.0 'male' 0]\n",
      " [1.0 'female' 1]\n",
      " [5.0 'male' 0]\n",
      " [8.0 'female' 0]\n",
      " [9.0 'male' 0]\n",
      " [1.0 'male' 1]\n",
      " [4.0 'female' 1]\n",
      " [3.0 'male' 1]\n",
      " [17.0 'male' 0]\n",
      " [2.0 'female' 0]\n",
      " [16.0 'female' 1]\n",
      " [16.0 'male' 1]\n",
      " [12.0 'female' 0]\n",
      " [5.0 'female' 1]\n",
      " [8.0 'female' 1]\n",
      " [3.0 'male' 1]\n",
      " [16.0 'male' 0]\n",
      " [7.0 'male' 0]\n",
      " [16.0 'male' 0]\n",
      " [2.0 'female' 0]\n",
      " [0.92 'male' 1]\n",
      " [17.0 'female' 1]\n",
      " [16.0 'female' 1]\n",
      " [16.0 'male' 0]\n",
      " [2.0 'male' 1]\n",
      " [3.0 'male' 1]\n",
      " [15.0 'male' 0]\n",
      " [3.0 'female' 0]\n",
      " [1.0 'female' 1]\n",
      " [1.0 'male' 0]\n",
      " [17.0 'female' 1]\n",
      " [3.0 'male' 1]\n",
      " [3.0 'female' 0]\n",
      " [10.0 'female' 0]\n",
      " [17.0 'male' 0]\n",
      " [14.0 'female' 1]\n",
      " [4.0 'male' 1]\n",
      " [13.0 'female' 1]\n",
      " [5.0 'female' 1]\n",
      " [17.0 'male' 0]\n",
      " [0.75 'female' 1]\n",
      " [2.0 'female' 1]\n",
      " [9.0 'male' 0]\n",
      " [8.0 'female' 0]\n",
      " [9.0 'male' 1]\n",
      " [17.0 'male' 0]\n",
      " [16.0 'female' 1]\n",
      " [2.0 'female' 1]\n",
      " [17.0 'male' 0]\n",
      " [17.0 'male' 0]\n",
      " [7.0 'female' 1]\n",
      " [9.0 'female' 0]\n",
      " [11.0 'female' 0]\n",
      " [8.0 'male' 1]\n",
      " [17.0 'male' 1]\n",
      " [16.0 'male' 0]\n",
      " [16.0 'male' 0]\n",
      " [4.0 'female' 1]\n",
      " [9.0 'female' 0]\n",
      " [2.0 'female' 0]\n",
      " [0.75 'female' 1]\n",
      " [16.0 'female' 1]\n",
      " [14.0 'male' 0]\n",
      " [14.0 'male' 0]\n",
      " [15.0 'female' 1]\n",
      " [4.0 'female' 1]\n",
      " [4.0 'male' 1]\n",
      " [6.0 'female' 1]\n",
      " [17.0 'male' 0]\n",
      " [11.0 'male' 0]\n",
      " [16.0 'male' 0]\n",
      " [4.0 'female' 1]\n",
      " [6.0 'male' 1]\n",
      " [0.67 'male' 1]\n",
      " [16.0 'male' 0]\n",
      " [5.0 'female' 1]\n",
      " [13.0 'female' 1]\n",
      " [17.0 'female' 1]\n",
      " [8.0 'male' 0]\n",
      " [1.0 'male' 1]\n",
      " [16.0 'male' 0]\n",
      " [11.0 'male' 1]\n",
      " [0.42 'male' 1]\n",
      " [6.0 'female' 0]\n",
      " [10.0 'male' 0]\n",
      " [2.0 'male' 0]\n",
      " [1.0 'male' 1]\n",
      " [15.0 'female' 1]\n",
      " [0.83 'male' 1]\n",
      " [16.0 'male' 0]\n",
      " [17.0 'male' 0]\n",
      " [4.0 'male' 0]\n",
      " [9.0 'female' 0]\n",
      " [16.0 'female' 1]\n",
      " [14.0 'female' 0]\n",
      " [4.0 'male' 1]\n",
      " [15.0 'female' 1]\n",
      " [7.0 'female' 0]]\n",
      "[[2.0 'male' 0]\n",
      " [14.0 'female' 1]\n",
      " [4.0 'female' 1]\n",
      " [14.0 'female' 0]\n",
      " [2.0 'male' 0]\n",
      " [15.0 'female' 1]\n",
      " [8.0 'female' 0]\n",
      " [14.0 'female' 1]\n",
      " [3.0 'female' 1]\n",
      " [16.0 'male' 0]\n",
      " [7.0 'male' 0]\n",
      " [5.0 'female' 1]\n",
      " [11.0 'male' 0]\n",
      " [4.0 'male' 0]\n",
      " [7.0 'male' 1]\n",
      " [17.0 'female' 1]\n",
      " [16.0 'female' 0]\n",
      " [0.83 'male' 1]\n",
      " [17.0 'female' 1]\n",
      " [16.0 'male' 0]\n",
      " [14.5 'female' 0]\n",
      " [17.0 'female' 0]\n",
      " [2.0 'female' 0]\n",
      " [12.0 'male' 1]\n",
      " [2.0 'female' 1]\n",
      " [16.0 'male' 0]\n",
      " [9.0 'female' 0]\n",
      " [16.0 'female' 1]\n",
      " [5.0 'male' 0]\n",
      " [17.0 'male' 0]\n",
      " [1.0 'male' 0]\n",
      " [9.0 'male' 1]\n",
      " [4.0 'male' 0]\n",
      " [1.0 'female' 1]\n",
      " [5.0 'male' 0]\n",
      " [8.0 'female' 0]\n",
      " [9.0 'male' 0]\n",
      " [1.0 'male' 1]\n",
      " [4.0 'female' 1]\n",
      " [3.0 'male' 1]\n",
      " [17.0 'male' 0]\n",
      " [2.0 'female' 0]\n",
      " [16.0 'female' 1]\n",
      " [16.0 'male' 1]\n",
      " [12.0 'female' 0]\n",
      " [5.0 'female' 1]\n",
      " [8.0 'female' 1]\n",
      " [3.0 'male' 1]\n",
      " [16.0 'male' 0]\n",
      " [7.0 'male' 0]\n",
      " [16.0 'male' 0]\n",
      " [2.0 'female' 0]\n",
      " [0.92 'male' 1]\n",
      " [17.0 'female' 1]\n",
      " [16.0 'female' 1]\n",
      " [16.0 'male' 0]\n",
      " [2.0 'male' 1]\n",
      " [3.0 'male' 1]\n",
      " [15.0 'male' 0]\n",
      " [3.0 'female' 0]\n",
      " [1.0 'female' 1]\n",
      " [1.0 'male' 0]\n",
      " [17.0 'female' 1]\n",
      " [3.0 'male' 1]\n",
      " [3.0 'female' 0]\n",
      " [10.0 'female' 0]\n",
      " [17.0 'male' 0]\n",
      " [14.0 'female' 1]\n",
      " [4.0 'male' 1]\n",
      " [13.0 'female' 1]\n",
      " [5.0 'female' 1]\n",
      " [17.0 'male' 0]\n",
      " [0.75 'female' 1]\n",
      " [2.0 'female' 1]\n",
      " [9.0 'male' 0]\n",
      " [8.0 'female' 0]\n",
      " [9.0 'male' 1]\n",
      " [17.0 'male' 0]\n",
      " [16.0 'female' 1]\n",
      " [2.0 'female' 1]\n",
      " [17.0 'male' 0]\n",
      " [17.0 'male' 0]\n",
      " [7.0 'female' 1]\n",
      " [9.0 'female' 0]\n",
      " [11.0 'female' 0]\n",
      " [8.0 'male' 1]\n",
      " [17.0 'male' 1]\n",
      " [16.0 'male' 0]\n",
      " [16.0 'male' 0]\n",
      " [4.0 'female' 1]\n",
      " [9.0 'female' 0]\n",
      " [2.0 'female' 0]\n",
      " [0.75 'female' 1]\n",
      " [16.0 'female' 1]\n",
      " [14.0 'male' 0]\n",
      " [14.0 'male' 0]\n",
      " [15.0 'female' 1]\n",
      " [4.0 'female' 1]\n",
      " [4.0 'male' 1]\n",
      " [6.0 'female' 1]\n",
      " [17.0 'male' 0]\n",
      " [11.0 'male' 0]\n",
      " [16.0 'male' 0]\n",
      " [4.0 'female' 1]\n",
      " [6.0 'male' 1]\n",
      " [0.67 'male' 1]\n",
      " [16.0 'male' 0]\n",
      " [5.0 'female' 1]\n",
      " [13.0 'female' 1]\n",
      " [17.0 'female' 1]\n",
      " [8.0 'male' 0]\n",
      " [1.0 'male' 1]\n",
      " [16.0 'male' 0]\n",
      " [11.0 'male' 1]\n",
      " [0.42 'male' 1]\n",
      " [6.0 'female' 0]\n",
      " [10.0 'male' 0]\n",
      " [2.0 'male' 0]\n",
      " [1.0 'male' 1]\n",
      " [15.0 'female' 1]\n",
      " [0.83 'male' 1]\n",
      " [16.0 'male' 0]\n",
      " [17.0 'male' 0]\n",
      " [4.0 'male' 0]\n",
      " [9.0 'female' 0]\n",
      " [16.0 'female' 1]\n",
      " [14.0 'female' 0]\n",
      " [4.0 'male' 1]\n",
      " [15.0 'female' 1]\n",
      " [7.0 'female' 0]]\n"
     ]
    }
   ],
   "source": [
    "# selecting rows of passengers below 18 yrs: children\n",
    "mask = arr[:, 0] < 18\n",
    "print(arr[mask])\n",
    "print(arr[arr[:, 0] < 18])"
   ]
  },
  {
   "cell_type": "code",
   "execution_count": 233,
   "metadata": {},
   "outputs": [
    {
     "name": "stdout",
     "output_type": "stream",
     "text": [
      "130\n"
     ]
    }
   ],
   "source": [
    "# counting the number of true values\n",
    "# print(mask.sum())\n",
    "print((arr[:, 0] < 18).sum())"
   ]
  },
  {
   "cell_type": "code",
   "execution_count": 234,
   "metadata": {},
   "outputs": [
    {
     "name": "stdout",
     "output_type": "stream",
     "text": [
      "   Survived  Pclass     Sex   Age  Siblings/Spouses  Parents/Children  \\\n",
      "0         0       3    male  22.0                 1                 0   \n",
      "1         1       1  female  38.0                 1                 0   \n",
      "2         1       3  female  26.0                 0                 0   \n",
      "3         1       1  female  35.0                 1                 0   \n",
      "4         0       3    male  35.0                 0                 0   \n",
      "\n",
      "      Fare   male  \n",
      "0   7.2500   True  \n",
      "1  71.2833  False  \n",
      "2   7.9250  False  \n",
      "3  53.1000  False  \n",
      "4   8.0500   True  \n"
     ]
    }
   ],
   "source": [
    "# create a male column and assign a new value to it\n",
    "df['male'] = df['Sex']  == 'male'\n",
    "print(df.head())"
   ]
  },
  {
   "cell_type": "code",
   "execution_count": 235,
   "metadata": {},
   "outputs": [
    {
     "data": {
      "text/plain": [
       "[<matplotlib.lines.Line2D at 0x29b988f2190>]"
      ]
     },
     "execution_count": 235,
     "metadata": {},
     "output_type": "execute_result"
    },
    {
     "data": {
      "image/png": "[encoded data removed]",
      "text/plain": [
       "<Figure size 432x288 with 1 Axes>"
      ]
     },
     "metadata": {
      "needs_background": "light"
     },
     "output_type": "display_data"
    }
   ],
   "source": [
    "# ploting data using scatter plot\n",
    "plt.scatter(df['Age'], df['Fare'], c=df['Pclass'])\n",
    "plt.xlabel('Age')\n",
    "plt.ylabel('Fare')\n",
    "plt.plot([0, 80], [85, 5])"
   ]
  },
  {
   "cell_type": "code",
   "execution_count": 236,
   "metadata": {},
   "outputs": [
    {
     "name": "stdout",
     "output_type": "stream",
     "text": [
      "[[3 True 22.0 1 0 7.25]\n",
      " [1 False 38.0 1 0 71.2833]\n",
      " [3 False 26.0 0 0 7.925]\n",
      " ...\n",
      " [3 False 7.0 1 2 23.45]\n",
      " [1 True 26.0 0 0 30.0]\n",
      " [3 True 32.0 0 0 7.75]]\n",
      "58220.0777000002\n",
      "342\n"
     ]
    }
   ],
   "source": [
    "# create numpy features arary X, store target in variable y\n",
    "X = df[['Pclass', 'male', 'Age', 'Siblings/Spouses', 'Parents/Children', 'Fare']].values\n",
    "y = df['Survived'].values\n",
    "print(X)\n",
    "print((X).sum())\n",
    "print((y).sum())"
   ]
  },
  {
   "cell_type": "code",
   "execution_count": 237,
   "metadata": {},
   "outputs": [
    {
     "data": {
      "text/plain": [
       "LogisticRegression()"
      ]
     },
     "execution_count": 237,
     "metadata": {},
     "output_type": "execute_result"
    }
   ],
   "source": [
    "# intantiate the class LogisticRegression, build model with fit method\n",
    "model = LogisticRegression()\n",
    "model.fit(X, y)"
   ]
  },
  {
   "cell_type": "code",
   "execution_count": 238,
   "metadata": {},
   "outputs": [
    {
     "name": "stdout",
     "output_type": "stream",
     "text": [
      "[[-1.13645641 -2.64409769 -0.04237391 -0.38746587 -0.09619825  0.00297187]] [5.08857137]\n"
     ]
    }
   ],
   "source": [
    "# line of best fit: coefficient and intercept\n",
    "print(model.coef_,\n",
    "      model.intercept_)"
   ]
  },
  {
   "cell_type": "code",
   "execution_count": 239,
   "metadata": {},
   "outputs": [
    {
     "data": {
      "text/plain": [
       "array([0, 1, 1, 1, 0, 0, 0, 0, 1, 1, 1, 1, 0, 0, 1, 1, 0, 0, 1, 1, 0, 0,\n",
       "       1, 1, 1, 0, 0, 0, 1, 0, 0, 1, 1, 0, 0, 0, 0, 0, 1, 1, 0, 1, 1, 1,\n",
       "       0, 0, 1, 0, 1, 0, 0, 1, 1, 0, 0, 1, 0, 1, 0, 0, 1, 0, 0, 0, 0, 1,\n",
       "       0, 0, 0, 0, 0, 0, 0, 0, 0, 0, 0, 1, 1, 0, 0, 1, 1, 1, 0, 0, 0, 1,\n",
       "       0, 0, 0, 0, 0, 0, 0, 0, 1, 1, 0, 1, 0, 1, 0, 0, 0, 1, 0, 0, 1, 0,\n",
       "       1, 0, 1, 1, 0, 0, 0, 1, 0, 0, 0, 0, 1, 0, 0, 0, 0, 1, 0, 0, 0, 0,\n",
       "       1, 0, 0, 1, 0, 0, 1, 0, 1, 1, 0, 0, 0, 0, 1, 0, 0, 0, 1, 0, 0, 0,\n",
       "       0, 1, 0, 0, 0, 0, 1, 0, 0, 0, 0, 1, 0, 0, 0, 0, 0, 1, 0, 0, 0, 0,\n",
       "       1, 0, 0, 0, 0, 0, 0, 1, 0, 1, 0, 0, 0, 1, 0, 1, 0, 1, 1, 0, 0, 1,\n",
       "       1, 0, 0, 0, 0, 0, 1, 0, 0, 1, 0, 0, 1, 0, 0, 0, 1, 1, 0, 1, 0, 0,\n",
       "       0, 0, 0, 0, 0, 0, 0, 0, 0, 1, 0, 0, 0, 0, 1, 0, 1, 0, 0, 1, 1, 0,\n",
       "       0, 0, 0, 1, 1, 0, 0, 0, 0, 0, 0, 0, 1, 1, 1, 1, 1, 0, 0, 0, 1, 0,\n",
       "       0, 0, 1, 1, 1, 0, 1, 0, 1, 1, 0, 0, 0, 0, 0, 0, 0, 0, 0, 0, 0, 0,\n",
       "       0, 1, 1, 1, 0, 1, 0, 1, 0, 1, 0, 1, 1, 0, 0, 1, 0, 1, 1, 1, 0, 1,\n",
       "       1, 1, 1, 0, 0, 1, 1, 0, 1, 1, 0, 0, 1, 1, 0, 1, 0, 1, 0, 1, 0, 0,\n",
       "       1, 0, 1, 0, 0, 1, 0, 0, 0, 1, 0, 0, 0, 1, 1, 0, 0, 0, 0, 0, 0, 0,\n",
       "       0, 0, 1, 1, 1, 1, 0, 0, 0, 0, 0, 0, 1, 1, 1, 1, 1, 0, 0, 1, 1, 1,\n",
       "       1, 1, 0, 0, 1, 1, 0, 1, 0, 0, 0, 1, 0, 1, 0, 0, 0, 1, 1, 0, 1, 0,\n",
       "       0, 1, 0, 0, 1, 0, 1, 0, 0, 0, 0, 1, 0, 0, 1, 0, 0, 1, 1, 1, 0, 1,\n",
       "       0, 0, 1, 0, 0, 1, 1, 0, 0, 1, 0, 1, 0, 0, 1, 0, 1, 0, 0, 1, 0, 0,\n",
       "       1, 0, 1, 1, 0, 1, 0, 0, 0, 1, 0, 0, 0, 0, 1, 1, 0, 0, 0, 0, 0, 0,\n",
       "       0, 0, 0, 0, 1, 0, 0, 1, 1, 1, 0, 0, 0, 0, 1, 0, 0, 0, 0, 1, 1, 1,\n",
       "       0, 0, 0, 0, 0, 0, 0, 0, 0, 1, 0, 1, 0, 0, 1, 1, 1, 1, 1, 1, 0, 0,\n",
       "       0, 0, 0, 0, 1, 0, 0, 1, 0, 1, 0, 1, 0, 0, 1, 0, 0, 1, 0, 0, 0, 1,\n",
       "       0, 0, 1, 1, 1, 0, 1, 0, 1, 1, 0, 0, 0, 0, 0, 1, 0, 0, 0, 1, 0, 0,\n",
       "       0, 1, 0, 1, 1, 1, 0, 0, 0, 0, 0, 0, 0, 0, 1, 0, 0, 0, 1, 0, 1, 0,\n",
       "       0, 1, 1, 1, 0, 1, 1, 0, 0, 0, 1, 0, 0, 0, 0, 0, 1, 0, 0, 0, 0, 1,\n",
       "       0, 0, 0, 1, 0, 0, 0, 0, 0, 0, 1, 1, 1, 0, 0, 1, 0, 0, 1, 0, 1, 1,\n",
       "       0, 0, 0, 0, 0, 0, 0, 0, 1, 0, 0, 0, 0, 1, 1, 1, 1, 0, 0, 0, 0, 0,\n",
       "       1, 1, 0, 1, 0, 0, 0, 0, 1, 0, 1, 0, 1, 1, 0, 0, 0, 0, 0, 0, 0, 0,\n",
       "       0, 0, 0, 0, 0, 0, 1, 1, 0, 0, 0, 0, 0, 0, 1, 0, 1, 1, 1, 0, 0, 0,\n",
       "       0, 0, 0, 0, 1, 0, 1, 0, 0, 0, 0, 0, 1, 0, 0, 1, 0, 1, 0, 0, 0, 1,\n",
       "       0, 1, 0, 1, 0, 0, 0, 0, 0, 1, 1, 0, 1, 0, 0, 0, 0, 0, 1, 1, 0, 1,\n",
       "       1, 0, 0, 0, 0, 0, 0, 1, 0, 0, 0, 0, 1, 0, 0, 0, 0, 1, 1, 0, 1, 0,\n",
       "       0, 0, 1, 0, 0, 0, 0, 1, 0, 0, 0, 1, 0, 1, 0, 1, 0, 0, 0, 0, 1, 0,\n",
       "       0, 0, 0, 1, 0, 1, 1, 1, 1, 0, 0, 0, 1, 0, 0, 0, 0, 0, 0, 0, 0, 0,\n",
       "       1, 1, 0, 0, 0, 1, 1, 0, 0, 0, 0, 1, 0, 1, 0, 0, 0, 0, 0, 0, 1, 0,\n",
       "       0, 0, 1, 0, 0, 1, 0, 0, 0, 1, 0, 1, 1, 0, 0, 0, 0, 1, 0, 0, 0, 1,\n",
       "       0, 0, 1, 0, 0, 0, 0, 0, 0, 1, 0, 0, 1, 1, 1, 1, 1, 0, 1, 0, 0, 0,\n",
       "       1, 0, 0, 1, 1, 1, 0, 0, 0, 1, 0, 0, 1, 1, 0, 0, 0, 1, 1, 0, 1, 0,\n",
       "       0, 0, 0, 1, 1, 1, 0], dtype=int64)"
      ]
     },
     "execution_count": 239,
     "metadata": {},
     "output_type": "execute_result"
    }
   ],
   "source": [
    "# model predictions\n",
    "model.predict(X)"
   ]
  },
  {
   "cell_type": "code",
   "execution_count": 240,
   "metadata": {},
   "outputs": [
    {
     "name": "stdout",
     "output_type": "stream",
     "text": [
      "[0]\n",
      "[0 1 1 1 0]\n",
      "[0 1 1 1 0]\n"
     ]
    }
   ],
   "source": [
    "# model predicts 1st passenger not survived\n",
    "# model predictions for 1st first rows compared to target array\n",
    "print(model.predict([[3, True, 22.0, 1, 0, 7.25]]))\n",
    "print(model.predict(X[:5]))\n",
    "print(y[:5])"
   ]
  },
  {
   "cell_type": "code",
   "execution_count": 241,
   "metadata": {},
   "outputs": [
    {
     "name": "stdout",
     "output_type": "stream",
     "text": [
      "714\n"
     ]
    }
   ],
   "source": [
    "# model predicts 714 datapoint correct, from 887\n",
    "y_pred = model.predict(X)\n",
    "y == y_pred\n",
    "print((y == y_pred).sum())"
   ]
  },
  {
   "cell_type": "code",
   "execution_count": 242,
   "metadata": {},
   "outputs": [
    {
     "name": "stdout",
     "output_type": "stream",
     "text": [
      "0.8049605411499436\n",
      "0.8049605411499436\n"
     ]
    }
   ],
   "source": [
    "# correct prediction divided by passenger: percentage accuracy\n",
    "print((y == y_pred).sum() / y.shape[0])\n",
    "print(model.score(X, y))        #sklearn score methods: alternative method"
   ]
  },
  {
   "cell_type": "code",
   "execution_count": null,
   "metadata": {},
   "outputs": [],
   "source": []
  },
  {
   "cell_type": "code",
   "execution_count": 243,
   "metadata": {},
   "outputs": [],
   "source": [
    "###################################################"
   ]
  },
  {
   "cell_type": "code",
   "execution_count": 244,
   "metadata": {},
   "outputs": [
    {
     "data": {
      "text/html": [
       "<div>\n",
       "<style scoped>\n",
       "    .dataframe tbody tr th:only-of-type {\n",
       "        vertical-align: middle;\n",
       "    }\n",
       "\n",
       "    .dataframe tbody tr th {\n",
       "        vertical-align: top;\n",
       "    }\n",
       "\n",
       "    .dataframe thead th {\n",
       "        text-align: right;\n",
       "    }\n",
       "</style>\n",
       "<table border=\"1\" class=\"dataframe\">\n",
       "  <thead>\n",
       "    <tr style=\"text-align: right;\">\n",
       "      <th></th>\n",
       "      <th>Name</th>\n",
       "      <th>PClass</th>\n",
       "      <th>Age</th>\n",
       "      <th>Sex</th>\n",
       "      <th>Survived</th>\n",
       "    </tr>\n",
       "  </thead>\n",
       "  <tbody>\n",
       "    <tr>\n",
       "      <th>0</th>\n",
       "      <td>Allen, Miss Elisabeth Walton</td>\n",
       "      <td>1st</td>\n",
       "      <td>29.00</td>\n",
       "      <td>female</td>\n",
       "      <td>1</td>\n",
       "    </tr>\n",
       "    <tr>\n",
       "      <th>1</th>\n",
       "      <td>Allison, Miss Helen Loraine</td>\n",
       "      <td>1st</td>\n",
       "      <td>2.00</td>\n",
       "      <td>female</td>\n",
       "      <td>0</td>\n",
       "    </tr>\n",
       "    <tr>\n",
       "      <th>2</th>\n",
       "      <td>Allison, Mr Hudson Joshua Creighton</td>\n",
       "      <td>1st</td>\n",
       "      <td>30.00</td>\n",
       "      <td>male</td>\n",
       "      <td>0</td>\n",
       "    </tr>\n",
       "    <tr>\n",
       "      <th>3</th>\n",
       "      <td>Allison, Mrs Hudson JC (Bessie Waldo Daniels)</td>\n",
       "      <td>1st</td>\n",
       "      <td>25.00</td>\n",
       "      <td>female</td>\n",
       "      <td>0</td>\n",
       "    </tr>\n",
       "    <tr>\n",
       "      <th>4</th>\n",
       "      <td>Allison, Master Hudson Trevor</td>\n",
       "      <td>1st</td>\n",
       "      <td>0.92</td>\n",
       "      <td>male</td>\n",
       "      <td>1</td>\n",
       "    </tr>\n",
       "  </tbody>\n",
       "</table>\n",
       "</div>"
      ],
      "text/plain": [
       "                                            Name PClass    Age     Sex  \\\n",
       "0                   Allen, Miss Elisabeth Walton    1st  29.00  female   \n",
       "1                    Allison, Miss Helen Loraine    1st   2.00  female   \n",
       "2            Allison, Mr Hudson Joshua Creighton    1st  30.00    male   \n",
       "3  Allison, Mrs Hudson JC (Bessie Waldo Daniels)    1st  25.00  female   \n",
       "4                  Allison, Master Hudson Trevor    1st   0.92    male   \n",
       "\n",
       "   Survived  \n",
       "0         1  \n",
       "1         0  \n",
       "2         0  \n",
       "3         0  \n",
       "4         1  "
      ]
     },
     "execution_count": 244,
     "metadata": {},
     "output_type": "execute_result"
    }
   ],
   "source": [
    "# Load machine learning training dataset (used wrong dataset)\n",
    "training_set = pd.read_csv('./data/traintanic.csv')\n",
    "training_set.head()"
   ]
  },
  {
   "cell_type": "code",
   "execution_count": 245,
   "metadata": {},
   "outputs": [],
   "source": [
    "# split the data by sex\n",
    "male = training_set[training_set.Sex=='male']\n",
    "female = training_set[training_set.Sex=='female']"
   ]
  },
  {
   "cell_type": "code",
   "execution_count": 246,
   "metadata": {},
   "outputs": [
    {
     "data": {
      "text/plain": [
       "(0.6666666666666666, 0.16686251468860164)"
      ]
     },
     "execution_count": 246,
     "metadata": {},
     "output_type": "execute_result"
    }
   ],
   "source": [
    "# calculate survival rates based on sex\n",
    "womens_survival_rate = float(sum(female.Survived))/len(female)\n",
    "mens_survival_rate = float(sum(male.Survived))/len(male)\n",
    "womens_survival_rate, mens_survival_rate"
   ]
  }
 ],
 "metadata": {
  "kernelspec": {
   "display_name": "Python 3",
   "language": "python",
   "name": "python3"
  },
  "language_info": {
   "codemirror_mode": {
    "name": "ipython",
    "version": 3
   },
   "file_extension": ".py",
   "mimetype": "text/x-python",
   "name": "python",
   "nbconvert_exporter": "python",
   "pygments_lexer": "ipython3",
   "version": "3.8.8"
  }
 },
 "nbformat": 4,
 "nbformat_minor": 2
}
